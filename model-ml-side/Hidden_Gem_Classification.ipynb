{
  "cells": [
    {
      "cell_type": "code",
      "execution_count": null,
      "metadata": {
        "id": "-t9jtQC9NPuI"
      },
      "outputs": [],
      "source": [
        "import pandas as pd\n",
        "from sklearn.model_selection import train_test_split\n",
        "from sklearn.preprocessing import MultiLabelBinarizer\n",
        "from sklearn.ensemble import RandomForestClassifier\n",
        "from sklearn.svm import SVC\n",
        "from sklearn.linear_model import LogisticRegression\n",
        "from sklearn.neighbors import KNeighborsClassifier\n",
        "from sklearn.preprocessing import MinMaxScaler\n",
        "import joblib\n",
        "import tensorflow as tf\n",
        "from sklearn.metrics import accuracy_score, precision_score, recall_score, f1_score, confusion_matrix"
      ]
    },
    {
      "cell_type": "code",
      "execution_count": null,
      "metadata": {
        "colab": {
          "base_uri": "https://localhost:8080/",
          "height": 614
        },
        "id": "YjBUOhF8Nh5g",
        "outputId": "51e03cc3-280f-42da-9cbe-e15a34196369"
      },
      "outputs": [
        {
          "data": {
            "text/html": [
              "\n",
              "  <div id=\"df-cbf6d5cb-8753-48ea-a938-c3aa3a2b256d\" class=\"colab-df-container\">\n",
              "    <div>\n",
              "<style scoped>\n",
              "    .dataframe tbody tr th:only-of-type {\n",
              "        vertical-align: middle;\n",
              "    }\n",
              "\n",
              "    .dataframe tbody tr th {\n",
              "        vertical-align: top;\n",
              "    }\n",
              "\n",
              "    .dataframe thead th {\n",
              "        text-align: right;\n",
              "    }\n",
              "</style>\n",
              "<table border=\"1\" class=\"dataframe\">\n",
              "  <thead>\n",
              "    <tr style=\"text-align: right;\">\n",
              "      <th></th>\n",
              "      <th>name</th>\n",
              "      <th>price_level</th>\n",
              "      <th>rating</th>\n",
              "      <th>types</th>\n",
              "      <th>user_ratings_total</th>\n",
              "      <th>place_id</th>\n",
              "      <th>hidden_gem</th>\n",
              "    </tr>\n",
              "  </thead>\n",
              "  <tbody>\n",
              "    <tr>\n",
              "      <th>0</th>\n",
              "      <td>Cinema Bakery</td>\n",
              "      <td>2.0</td>\n",
              "      <td>4.5</td>\n",
              "      <td>['bakery', 'food', 'point_of_interest', 'store...</td>\n",
              "      <td>2732</td>\n",
              "      <td>ChIJJ9EYdFj_ei4Rwcr9mZCBmas</td>\n",
              "      <td>1</td>\n",
              "    </tr>\n",
              "    <tr>\n",
              "      <th>1</th>\n",
              "      <td>GEMAHRIPAH78 WAROENG JOGJAKARTA</td>\n",
              "      <td>2.0</td>\n",
              "      <td>4.8</td>\n",
              "      <td>['restaurant', 'food', 'point_of_interest', 'e...</td>\n",
              "      <td>292</td>\n",
              "      <td>ChIJHVFenDJbei4RqP0tu3iSG88</td>\n",
              "      <td>1</td>\n",
              "    </tr>\n",
              "    <tr>\n",
              "      <th>2</th>\n",
              "      <td>Warung Tuman BSD</td>\n",
              "      <td>2.0</td>\n",
              "      <td>4.5</td>\n",
              "      <td>['restaurant', 'point_of_interest', 'food', 'e...</td>\n",
              "      <td>3412</td>\n",
              "      <td>ChIJ3QHJ3A7laS4RnE--2dQVeJ0</td>\n",
              "      <td>1</td>\n",
              "    </tr>\n",
              "    <tr>\n",
              "      <th>3</th>\n",
              "      <td>wagokoro Jakal</td>\n",
              "      <td>NaN</td>\n",
              "      <td>4.7</td>\n",
              "      <td>['restaurant', 'food', 'point_of_interest', 'e...</td>\n",
              "      <td>307</td>\n",
              "      <td>ChIJI_CEzvpZei4ROnW18peB8qY</td>\n",
              "      <td>1</td>\n",
              "    </tr>\n",
              "    <tr>\n",
              "      <th>4</th>\n",
              "      <td>MIAMUR Mie Ayam Jamur</td>\n",
              "      <td>NaN</td>\n",
              "      <td>4.5</td>\n",
              "      <td>['restaurant', 'food', 'point_of_interest', 'e...</td>\n",
              "      <td>198</td>\n",
              "      <td>ChIJ5eVjBsVXei4RyyaBYH8xIvM</td>\n",
              "      <td>1</td>\n",
              "    </tr>\n",
              "    <tr>\n",
              "      <th>...</th>\n",
              "      <td>...</td>\n",
              "      <td>...</td>\n",
              "      <td>...</td>\n",
              "      <td>...</td>\n",
              "      <td>...</td>\n",
              "      <td>...</td>\n",
              "      <td>...</td>\n",
              "    </tr>\n",
              "    <tr>\n",
              "      <th>186</th>\n",
              "      <td>Royal Steak Citraland Mall</td>\n",
              "      <td>NaN</td>\n",
              "      <td>3.9</td>\n",
              "      <td>['restaurant', 'food', 'point_of_interest', 'e...</td>\n",
              "      <td>14</td>\n",
              "      <td>ChIJt_wE5ViLcC4RjATI-B32Jyo</td>\n",
              "      <td>0</td>\n",
              "    </tr>\n",
              "    <tr>\n",
              "      <th>187</th>\n",
              "      <td>Quest Hotel Simpang Lima Semarang</td>\n",
              "      <td>NaN</td>\n",
              "      <td>4.4</td>\n",
              "      <td>['lodging', 'restaurant', 'food', 'point_of_in...</td>\n",
              "      <td>9526</td>\n",
              "      <td>ChIJd0gb_VSLcC4RQZ8hdkGgj9M</td>\n",
              "      <td>0</td>\n",
              "    </tr>\n",
              "    <tr>\n",
              "      <th>188</th>\n",
              "      <td>Super Penyet</td>\n",
              "      <td>2.0</td>\n",
              "      <td>4.4</td>\n",
              "      <td>['restaurant', 'food', 'point_of_interest', 'e...</td>\n",
              "      <td>5094</td>\n",
              "      <td>ChIJE8TGGlSLcC4RXfqTxEghLFI</td>\n",
              "      <td>0</td>\n",
              "    </tr>\n",
              "    <tr>\n",
              "      <th>189</th>\n",
              "      <td>Platinum Restaurant and Kota Lama Coffee &amp; Ter...</td>\n",
              "      <td>NaN</td>\n",
              "      <td>3.6</td>\n",
              "      <td>['restaurant', 'food', 'point_of_interest', 'e...</td>\n",
              "      <td>5</td>\n",
              "      <td>ChIJMyUyLar0cC4RUI2MvYcHGtk</td>\n",
              "      <td>0</td>\n",
              "    </tr>\n",
              "    <tr>\n",
              "      <th>190</th>\n",
              "      <td>Toko Oen</td>\n",
              "      <td>2.0</td>\n",
              "      <td>4.4</td>\n",
              "      <td>['restaurant', 'food', 'point_of_interest', 's...</td>\n",
              "      <td>7066</td>\n",
              "      <td>ChIJlXBR3U2LcC4R4HHkfElxS_g</td>\n",
              "      <td>0</td>\n",
              "    </tr>\n",
              "  </tbody>\n",
              "</table>\n",
              "<p>191 rows × 7 columns</p>\n",
              "</div>\n",
              "    <div class=\"colab-df-buttons\">\n",
              "\n",
              "  <div class=\"colab-df-container\">\n",
              "    <button class=\"colab-df-convert\" onclick=\"convertToInteractive('df-cbf6d5cb-8753-48ea-a938-c3aa3a2b256d')\"\n",
              "            title=\"Convert this dataframe to an interactive table.\"\n",
              "            style=\"display:none;\">\n",
              "\n",
              "  <svg xmlns=\"http://www.w3.org/2000/svg\" height=\"24px\" viewBox=\"0 -960 960 960\">\n",
              "    <path d=\"M120-120v-720h720v720H120Zm60-500h600v-160H180v160Zm220 220h160v-160H400v160Zm0 220h160v-160H400v160ZM180-400h160v-160H180v160Zm440 0h160v-160H620v160ZM180-180h160v-160H180v160Zm440 0h160v-160H620v160Z\"/>\n",
              "  </svg>\n",
              "    </button>\n",
              "\n",
              "  <style>\n",
              "    .colab-df-container {\n",
              "      display:flex;\n",
              "      gap: 12px;\n",
              "    }\n",
              "\n",
              "    .colab-df-convert {\n",
              "      background-color: #E8F0FE;\n",
              "      border: none;\n",
              "      border-radius: 50%;\n",
              "      cursor: pointer;\n",
              "      display: none;\n",
              "      fill: #1967D2;\n",
              "      height: 32px;\n",
              "      padding: 0 0 0 0;\n",
              "      width: 32px;\n",
              "    }\n",
              "\n",
              "    .colab-df-convert:hover {\n",
              "      background-color: #E2EBFA;\n",
              "      box-shadow: 0px 1px 2px rgba(60, 64, 67, 0.3), 0px 1px 3px 1px rgba(60, 64, 67, 0.15);\n",
              "      fill: #174EA6;\n",
              "    }\n",
              "\n",
              "    .colab-df-buttons div {\n",
              "      margin-bottom: 4px;\n",
              "    }\n",
              "\n",
              "    [theme=dark] .colab-df-convert {\n",
              "      background-color: #3B4455;\n",
              "      fill: #D2E3FC;\n",
              "    }\n",
              "\n",
              "    [theme=dark] .colab-df-convert:hover {\n",
              "      background-color: #434B5C;\n",
              "      box-shadow: 0px 1px 3px 1px rgba(0, 0, 0, 0.15);\n",
              "      filter: drop-shadow(0px 1px 2px rgba(0, 0, 0, 0.3));\n",
              "      fill: #FFFFFF;\n",
              "    }\n",
              "  </style>\n",
              "\n",
              "    <script>\n",
              "      const buttonEl =\n",
              "        document.querySelector('#df-cbf6d5cb-8753-48ea-a938-c3aa3a2b256d button.colab-df-convert');\n",
              "      buttonEl.style.display =\n",
              "        google.colab.kernel.accessAllowed ? 'block' : 'none';\n",
              "\n",
              "      async function convertToInteractive(key) {\n",
              "        const element = document.querySelector('#df-cbf6d5cb-8753-48ea-a938-c3aa3a2b256d');\n",
              "        const dataTable =\n",
              "          await google.colab.kernel.invokeFunction('convertToInteractive',\n",
              "                                                    [key], {});\n",
              "        if (!dataTable) return;\n",
              "\n",
              "        const docLinkHtml = 'Like what you see? Visit the ' +\n",
              "          '<a target=\"_blank\" href=https://colab.research.google.com/notebooks/data_table.ipynb>data table notebook</a>'\n",
              "          + ' to learn more about interactive tables.';\n",
              "        element.innerHTML = '';\n",
              "        dataTable['output_type'] = 'display_data';\n",
              "        await google.colab.output.renderOutput(dataTable, element);\n",
              "        const docLink = document.createElement('div');\n",
              "        docLink.innerHTML = docLinkHtml;\n",
              "        element.appendChild(docLink);\n",
              "      }\n",
              "    </script>\n",
              "  </div>\n",
              "\n",
              "\n",
              "<div id=\"df-274d3901-b7c6-4eda-9993-22b63f903471\">\n",
              "  <button class=\"colab-df-quickchart\" onclick=\"quickchart('df-274d3901-b7c6-4eda-9993-22b63f903471')\"\n",
              "            title=\"Suggest charts\"\n",
              "            style=\"display:none;\">\n",
              "\n",
              "<svg xmlns=\"http://www.w3.org/2000/svg\" height=\"24px\"viewBox=\"0 0 24 24\"\n",
              "     width=\"24px\">\n",
              "    <g>\n",
              "        <path d=\"M19 3H5c-1.1 0-2 .9-2 2v14c0 1.1.9 2 2 2h14c1.1 0 2-.9 2-2V5c0-1.1-.9-2-2-2zM9 17H7v-7h2v7zm4 0h-2V7h2v10zm4 0h-2v-4h2v4z\"/>\n",
              "    </g>\n",
              "</svg>\n",
              "  </button>\n",
              "\n",
              "<style>\n",
              "  .colab-df-quickchart {\n",
              "      --bg-color: #E8F0FE;\n",
              "      --fill-color: #1967D2;\n",
              "      --hover-bg-color: #E2EBFA;\n",
              "      --hover-fill-color: #174EA6;\n",
              "      --disabled-fill-color: #AAA;\n",
              "      --disabled-bg-color: #DDD;\n",
              "  }\n",
              "\n",
              "  [theme=dark] .colab-df-quickchart {\n",
              "      --bg-color: #3B4455;\n",
              "      --fill-color: #D2E3FC;\n",
              "      --hover-bg-color: #434B5C;\n",
              "      --hover-fill-color: #FFFFFF;\n",
              "      --disabled-bg-color: #3B4455;\n",
              "      --disabled-fill-color: #666;\n",
              "  }\n",
              "\n",
              "  .colab-df-quickchart {\n",
              "    background-color: var(--bg-color);\n",
              "    border: none;\n",
              "    border-radius: 50%;\n",
              "    cursor: pointer;\n",
              "    display: none;\n",
              "    fill: var(--fill-color);\n",
              "    height: 32px;\n",
              "    padding: 0;\n",
              "    width: 32px;\n",
              "  }\n",
              "\n",
              "  .colab-df-quickchart:hover {\n",
              "    background-color: var(--hover-bg-color);\n",
              "    box-shadow: 0 1px 2px rgba(60, 64, 67, 0.3), 0 1px 3px 1px rgba(60, 64, 67, 0.15);\n",
              "    fill: var(--button-hover-fill-color);\n",
              "  }\n",
              "\n",
              "  .colab-df-quickchart-complete:disabled,\n",
              "  .colab-df-quickchart-complete:disabled:hover {\n",
              "    background-color: var(--disabled-bg-color);\n",
              "    fill: var(--disabled-fill-color);\n",
              "    box-shadow: none;\n",
              "  }\n",
              "\n",
              "  .colab-df-spinner {\n",
              "    border: 2px solid var(--fill-color);\n",
              "    border-color: transparent;\n",
              "    border-bottom-color: var(--fill-color);\n",
              "    animation:\n",
              "      spin 1s steps(1) infinite;\n",
              "  }\n",
              "\n",
              "  @keyframes spin {\n",
              "    0% {\n",
              "      border-color: transparent;\n",
              "      border-bottom-color: var(--fill-color);\n",
              "      border-left-color: var(--fill-color);\n",
              "    }\n",
              "    20% {\n",
              "      border-color: transparent;\n",
              "      border-left-color: var(--fill-color);\n",
              "      border-top-color: var(--fill-color);\n",
              "    }\n",
              "    30% {\n",
              "      border-color: transparent;\n",
              "      border-left-color: var(--fill-color);\n",
              "      border-top-color: var(--fill-color);\n",
              "      border-right-color: var(--fill-color);\n",
              "    }\n",
              "    40% {\n",
              "      border-color: transparent;\n",
              "      border-right-color: var(--fill-color);\n",
              "      border-top-color: var(--fill-color);\n",
              "    }\n",
              "    60% {\n",
              "      border-color: transparent;\n",
              "      border-right-color: var(--fill-color);\n",
              "    }\n",
              "    80% {\n",
              "      border-color: transparent;\n",
              "      border-right-color: var(--fill-color);\n",
              "      border-bottom-color: var(--fill-color);\n",
              "    }\n",
              "    90% {\n",
              "      border-color: transparent;\n",
              "      border-bottom-color: var(--fill-color);\n",
              "    }\n",
              "  }\n",
              "</style>\n",
              "\n",
              "  <script>\n",
              "    async function quickchart(key) {\n",
              "      const quickchartButtonEl =\n",
              "        document.querySelector('#' + key + ' button');\n",
              "      quickchartButtonEl.disabled = true;  // To prevent multiple clicks.\n",
              "      quickchartButtonEl.classList.add('colab-df-spinner');\n",
              "      try {\n",
              "        const charts = await google.colab.kernel.invokeFunction(\n",
              "            'suggestCharts', [key], {});\n",
              "      } catch (error) {\n",
              "        console.error('Error during call to suggestCharts:', error);\n",
              "      }\n",
              "      quickchartButtonEl.classList.remove('colab-df-spinner');\n",
              "      quickchartButtonEl.classList.add('colab-df-quickchart-complete');\n",
              "    }\n",
              "    (() => {\n",
              "      let quickchartButtonEl =\n",
              "        document.querySelector('#df-274d3901-b7c6-4eda-9993-22b63f903471 button');\n",
              "      quickchartButtonEl.style.display =\n",
              "        google.colab.kernel.accessAllowed ? 'block' : 'none';\n",
              "    })();\n",
              "  </script>\n",
              "</div>\n",
              "    </div>\n",
              "  </div>\n"
            ],
            "text/plain": [
              "                                                  name  price_level  rating  \\\n",
              "0                                        Cinema Bakery          2.0     4.5   \n",
              "1                      GEMAHRIPAH78 WAROENG JOGJAKARTA          2.0     4.8   \n",
              "2                                     Warung Tuman BSD          2.0     4.5   \n",
              "3                                       wagokoro Jakal          NaN     4.7   \n",
              "4                                MIAMUR Mie Ayam Jamur          NaN     4.5   \n",
              "..                                                 ...          ...     ...   \n",
              "186                         Royal Steak Citraland Mall          NaN     3.9   \n",
              "187                  Quest Hotel Simpang Lima Semarang          NaN     4.4   \n",
              "188                                       Super Penyet          2.0     4.4   \n",
              "189  Platinum Restaurant and Kota Lama Coffee & Ter...          NaN     3.6   \n",
              "190                                           Toko Oen          2.0     4.4   \n",
              "\n",
              "                                                 types  user_ratings_total  \\\n",
              "0    ['bakery', 'food', 'point_of_interest', 'store...                2732   \n",
              "1    ['restaurant', 'food', 'point_of_interest', 'e...                 292   \n",
              "2    ['restaurant', 'point_of_interest', 'food', 'e...                3412   \n",
              "3    ['restaurant', 'food', 'point_of_interest', 'e...                 307   \n",
              "4    ['restaurant', 'food', 'point_of_interest', 'e...                 198   \n",
              "..                                                 ...                 ...   \n",
              "186  ['restaurant', 'food', 'point_of_interest', 'e...                  14   \n",
              "187  ['lodging', 'restaurant', 'food', 'point_of_in...                9526   \n",
              "188  ['restaurant', 'food', 'point_of_interest', 'e...                5094   \n",
              "189  ['restaurant', 'food', 'point_of_interest', 'e...                   5   \n",
              "190  ['restaurant', 'food', 'point_of_interest', 's...                7066   \n",
              "\n",
              "                        place_id  hidden_gem  \n",
              "0    ChIJJ9EYdFj_ei4Rwcr9mZCBmas           1  \n",
              "1    ChIJHVFenDJbei4RqP0tu3iSG88           1  \n",
              "2    ChIJ3QHJ3A7laS4RnE--2dQVeJ0           1  \n",
              "3    ChIJI_CEzvpZei4ROnW18peB8qY           1  \n",
              "4    ChIJ5eVjBsVXei4RyyaBYH8xIvM           1  \n",
              "..                           ...         ...  \n",
              "186  ChIJt_wE5ViLcC4RjATI-B32Jyo           0  \n",
              "187  ChIJd0gb_VSLcC4RQZ8hdkGgj9M           0  \n",
              "188  ChIJE8TGGlSLcC4RXfqTxEghLFI           0  \n",
              "189  ChIJMyUyLar0cC4RUI2MvYcHGtk           0  \n",
              "190  ChIJlXBR3U2LcC4R4HHkfElxS_g           0  \n",
              "\n",
              "[191 rows x 7 columns]"
            ]
          },
          "execution_count": 26,
          "metadata": {},
          "output_type": "execute_result"
        }
      ],
      "source": [
        "import pandas as pd\n",
        "\n",
        "df = pd.read_csv('/content/hidden_gem_dataset.csv')\n",
        "df"
      ]
    },
    {
      "cell_type": "code",
      "execution_count": null,
      "metadata": {
        "colab": {
          "base_uri": "https://localhost:8080/"
        },
        "id": "2JgUdf0LSKlM",
        "outputId": "0ee36096-24cb-4d81-99d8-9d0d06cbca88"
      },
      "outputs": [
        {
          "name": "stdout",
          "output_type": "stream",
          "text": [
            "<class 'pandas.core.frame.DataFrame'>\n",
            "RangeIndex: 191 entries, 0 to 190\n",
            "Data columns (total 7 columns):\n",
            " #   Column              Non-Null Count  Dtype  \n",
            "---  ------              --------------  -----  \n",
            " 0   name                191 non-null    object \n",
            " 1   price_level         78 non-null     float64\n",
            " 2   rating              191 non-null    float64\n",
            " 3   types               191 non-null    object \n",
            " 4   user_ratings_total  191 non-null    int64  \n",
            " 5   place_id            191 non-null    object \n",
            " 6   hidden_gem          191 non-null    int64  \n",
            "dtypes: float64(2), int64(2), object(3)\n",
            "memory usage: 10.6+ KB\n"
          ]
        }
      ],
      "source": [
        "df.info()"
      ]
    },
    {
      "cell_type": "code",
      "execution_count": null,
      "metadata": {
        "id": "ewb4_Z4zOEsP"
      },
      "outputs": [],
      "source": [
        "features = ['rating', 'user_ratings_total']\n",
        "target = 'hidden_gem'"
      ]
    },
    {
      "cell_type": "code",
      "execution_count": null,
      "metadata": {
        "id": "MBISmk6NONh0"
      },
      "outputs": [],
      "source": [
        "X = df[features]\n",
        "y = df[target]"
      ]
    },
    {
      "cell_type": "code",
      "execution_count": null,
      "metadata": {
        "id": "J-6kIaSUOWwn"
      },
      "outputs": [],
      "source": [
        "X_train, X_test, y_train, y_test = train_test_split(X, y, test_size=0.2, random_state=42)"
      ]
    },
    {
      "cell_type": "code",
      "execution_count": null,
      "metadata": {
        "colab": {
          "base_uri": "https://localhost:8080/"
        },
        "id": "ktuck1iQPvpc",
        "outputId": "2af0da11-65f1-414c-ae7f-56704c25d682"
      },
      "outputs": [
        {
          "data": {
            "text/plain": [
              "['scaler.pkl']"
            ]
          },
          "execution_count": 8,
          "metadata": {},
          "output_type": "execute_result"
        }
      ],
      "source": [
        "scaler = MinMaxScaler()\n",
        "X_train[features] = scaler.fit_transform(X_train[features])\n",
        "\n",
        "joblib.dump(scaler, 'scaler.pkl')"
      ]
    },
    {
      "cell_type": "code",
      "execution_count": null,
      "metadata": {
        "id": "V_UyGpguUYGZ"
      },
      "outputs": [],
      "source": [
        "def train_models(X_train, y_train):\n",
        "    models = {\n",
        "        'Random Forest': RandomForestClassifier(),\n",
        "        'SVM': SVC(),\n",
        "        'Logistic Regression': LogisticRegression(),\n",
        "        'K-Nearest Neighbors': KNeighborsClassifier()\n",
        "    }\n",
        "\n",
        "    trained_models = {}\n",
        "\n",
        "    for name, model in models.items():\n",
        "        model.fit(X_train, y_train)\n",
        "        trained_models[name] = model\n",
        "\n",
        "    return trained_models"
      ]
    },
    {
      "cell_type": "code",
      "execution_count": null,
      "metadata": {
        "colab": {
          "base_uri": "https://localhost:8080/"
        },
        "id": "vU0Vv_MhUcw5",
        "outputId": "a0670330-5640-4e66-987a-805c79d299c0"
      },
      "outputs": [
        {
          "data": {
            "text/plain": [
              "{'Random Forest': RandomForestClassifier(),\n",
              " 'SVM': SVC(),\n",
              " 'Logistic Regression': LogisticRegression(),\n",
              " 'K-Nearest Neighbors': KNeighborsClassifier()}"
            ]
          },
          "execution_count": 10,
          "metadata": {},
          "output_type": "execute_result"
        }
      ],
      "source": [
        "trained_models = train_models(X_train, y_train)\n",
        "\n",
        "trained_models"
      ]
    },
    {
      "cell_type": "code",
      "execution_count": null,
      "metadata": {
        "id": "aEmkFMsUQCzm"
      },
      "outputs": [],
      "source": [
        "scaler = joblib.load('scaler.pkl')\n",
        "\n",
        "X_test[features] = scaler.transform(X_test[features])"
      ]
    },
    {
      "cell_type": "code",
      "execution_count": null,
      "metadata": {
        "id": "HHV0lBnqV6aA"
      },
      "outputs": [],
      "source": [
        "def evaluate_models(trained_models, X_test, y_test):\n",
        "    results = {}\n",
        "\n",
        "    for name, model in trained_models.items():\n",
        "        # print(\"x_test: \", X_test)\n",
        "        y_pred = model.predict(X_test)\n",
        "\n",
        "        accuracy = accuracy_score(y_test, y_pred)\n",
        "        results[name] = {'Accuracy': accuracy}\n",
        "\n",
        "        conf_matrix = confusion_matrix(y_test, y_pred)\n",
        "        results[name]['Confusion Matrix'] = conf_matrix\n",
        "\n",
        "    return results"
      ]
    },
    {
      "cell_type": "code",
      "execution_count": null,
      "metadata": {
        "colab": {
          "base_uri": "https://localhost:8080/"
        },
        "id": "eMGEsva9V-Vj",
        "outputId": "f2e1b451-3320-410c-facb-64d4062ab335"
      },
      "outputs": [
        {
          "data": {
            "text/plain": [
              "{'Random Forest': {'Accuracy': 0.9230769230769231,\n",
              "  'Confusion Matrix': array([[29,  0],\n",
              "         [ 3,  7]])},\n",
              " 'SVM': {'Accuracy': 0.9487179487179487,\n",
              "  'Confusion Matrix': array([[28,  1],\n",
              "         [ 1,  9]])},\n",
              " 'Logistic Regression': {'Accuracy': 0.7435897435897436,\n",
              "  'Confusion Matrix': array([[29,  0],\n",
              "         [10,  0]])},\n",
              " 'K-Nearest Neighbors': {'Accuracy': 0.8974358974358975,\n",
              "  'Confusion Matrix': array([[29,  0],\n",
              "         [ 4,  6]])}}"
            ]
          },
          "execution_count": 39,
          "metadata": {},
          "output_type": "execute_result"
        }
      ],
      "source": [
        "evaluate_models(trained_models, X_test, y_test)"
      ]
    },
    {
      "cell_type": "code",
      "execution_count": null,
      "metadata": {
        "id": "qgMN93WMWPFs"
      },
      "outputs": [],
      "source": [
        "for name, model in trained_models.items():\n",
        "    if name == 'SVM':\n",
        "        joblib.dump(model, '/content/svm_model.pkl')"
      ]
    },
    {
      "cell_type": "code",
      "execution_count": null,
      "metadata": {
        "id": "XcYIvhhJpT81"
      },
      "outputs": [],
      "source": [
        "for name, model in trained_models.items():\n",
        "    if name == 'SVM':\n",
        "        svm_model = model"
      ]
    },
    {
      "cell_type": "code",
      "execution_count": null,
      "metadata": {
        "colab": {
          "background_save": true,
          "base_uri": "https://localhost:8080/",
          "height": 140
        },
        "id": "hgxVsLjDpeRv",
        "outputId": "94484af9-5a66-4ae4-da98-153bd76ee5c9"
      },
      "outputs": [
        {
          "data": {
            "text/plain": [
              "array([0])"
            ]
          },
          "execution_count": 43,
          "metadata": {},
          "output_type": "execute_result"
        }
      ],
      "source": [
        "testing_data = pd.DataFrame([3.5,67], columns=['rating', 'user_ratings_total'])\n",
        "svm_model.predict('rating':0.88, 'user_ratings_total':0.003534)"
      ]
    }
  ],
  "metadata": {
    "colab": {
      "provenance": []
    },
    "kernelspec": {
      "display_name": "Python 3",
      "name": "python3"
    },
    "language_info": {
      "name": "python"
    }
  },
  "nbformat": 4,
  "nbformat_minor": 0
}